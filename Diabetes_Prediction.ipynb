{
  "nbformat": 4,
  "nbformat_minor": 0,
  "metadata": {
    "colab": {
      "provenance": []
    },
    "kernelspec": {
      "name": "python3",
      "display_name": "Python 3"
    }
  },
  "cells": [
    {
      "cell_type": "markdown",
      "metadata": {
        "id": "Snq4iq_JOB4T"
      },
      "source": [
        "# PART 1 : Install Dependencies & Run Spark Session"
      ]
    },
    {
      "cell_type": "code",
      "metadata": {
        "id": "NpCRBcqtN5lH",
        "colab": {
          "base_uri": "https://localhost:8080/"
        },
        "outputId": "5fb97d28-1343-47a1-c2b0-813226f2075a"
      },
      "source": [
        "#install pyspark\n",
        "! pip install pyspark\n"
      ],
      "execution_count": null,
      "outputs": [
        {
          "output_type": "stream",
          "name": "stdout",
          "text": [
            "Collecting pyspark\n",
            "  Downloading pyspark-3.5.1.tar.gz (317.0 MB)\n",
            "\u001b[2K     \u001b[90m━━━━━━━━━━━━━━━━━━━━━━━━━━━━━━━━━━━━━━━━\u001b[0m \u001b[32m317.0/317.0 MB\u001b[0m \u001b[31m2.0 MB/s\u001b[0m eta \u001b[36m0:00:00\u001b[0m\n",
            "\u001b[?25h  Preparing metadata (setup.py) ... \u001b[?25l\u001b[?25hdone\n",
            "Requirement already satisfied: py4j==0.10.9.7 in /usr/local/lib/python3.10/dist-packages (from pyspark) (0.10.9.7)\n",
            "Building wheels for collected packages: pyspark\n",
            "  Building wheel for pyspark (setup.py) ... \u001b[?25l\u001b[?25hdone\n",
            "  Created wheel for pyspark: filename=pyspark-3.5.1-py2.py3-none-any.whl size=317488491 sha256=968136d8680adadf553f4a7d0886478a3b518adebbbb0ff0cd6bb74854dae52a\n",
            "  Stored in directory: /root/.cache/pip/wheels/80/1d/60/2c256ed38dddce2fdd93be545214a63e02fbd8d74fb0b7f3a6\n",
            "Successfully built pyspark\n",
            "Installing collected packages: pyspark\n",
            "Successfully installed pyspark-3.5.1\n"
          ]
        }
      ]
    },
    {
      "cell_type": "code",
      "metadata": {
        "id": "GNZoOuDqOdxX"
      },
      "source": [
        "#create a sparksession\n",
        "from pyspark.sql import SparkSession\n",
        "spark = SparkSession.builder.appName(\"spark\").getOrCreate()"
      ],
      "execution_count": null,
      "outputs": []
    },
    {
      "cell_type": "markdown",
      "metadata": {
        "id": "5sG3MLXlOews"
      },
      "source": [
        "# PART 2: Clone & Explore dataset"
      ]
    },
    {
      "cell_type": "code",
      "metadata": {
        "id": "-Uh5H7_KOoSL",
        "colab": {
          "base_uri": "https://localhost:8080/"
        },
        "outputId": "f45387b6-3f6e-4edf-90b2-92d1c66c5b6f"
      },
      "source": [
        "#clone the diabetes dataset from the github repository\n",
        "! git clone https://github.com/education454/diabetes_dataset"
      ],
      "execution_count": null,
      "outputs": [
        {
          "output_type": "stream",
          "name": "stdout",
          "text": [
            "Cloning into 'diabetes_dataset'...\n",
            "remote: Enumerating objects: 6, done.\u001b[K\n",
            "remote: Counting objects: 100% (6/6), done.\u001b[K\n",
            "remote: Compressing objects: 100% (5/5), done.\u001b[K\n",
            "remote: Total 6 (delta 0), reused 0 (delta 0), pack-reused 0\u001b[K\n",
            "Receiving objects: 100% (6/6), 13.02 KiB | 289.00 KiB/s, done.\n"
          ]
        }
      ]
    },
    {
      "cell_type": "code",
      "metadata": {
        "id": "VcqwJRxVOutr",
        "colab": {
          "base_uri": "https://localhost:8080/"
        },
        "outputId": "33f44b8a-dd5d-4db6-cf39-317d7c86a21e"
      },
      "source": [
        "#check if the dataset exists\n",
        "! ls diabetes_dataset"
      ],
      "execution_count": null,
      "outputs": [
        {
          "output_type": "stream",
          "name": "stdout",
          "text": [
            "diabetes.csv  new_test.csv\n"
          ]
        }
      ]
    },
    {
      "cell_type": "code",
      "metadata": {
        "id": "ST1rFFOlOu8s"
      },
      "source": [
        "#create spark dataframe\n",
        "df = spark.read.csv(\"/content/diabetes_dataset/diabetes.csv\", header=True, inferSchema=True)"
      ],
      "execution_count": null,
      "outputs": []
    },
    {
      "cell_type": "code",
      "metadata": {
        "id": "IiJm-pmROvKd",
        "colab": {
          "base_uri": "https://localhost:8080/"
        },
        "outputId": "e5d67d92-764c-4a19-c55a-7d90b15f37af"
      },
      "source": [
        "#display the dataframe\n",
        "df.show()"
      ],
      "execution_count": null,
      "outputs": [
        {
          "output_type": "stream",
          "name": "stdout",
          "text": [
            "+-----------+-------+-------------+-------------+-------+----+------------------------+---+-------+\n",
            "|Pregnancies|Glucose|BloodPressure|SkinThickness|Insulin| BMI|DiabetesPedigreeFunction|Age|Outcome|\n",
            "+-----------+-------+-------------+-------------+-------+----+------------------------+---+-------+\n",
            "|          2|    138|           62|           35|      0|33.6|                   0.127| 47|      1|\n",
            "|          0|     84|           82|           31|    125|38.2|                   0.233| 23|      0|\n",
            "|          0|    145|            0|            0|      0|44.2|                    0.63| 31|      1|\n",
            "|          0|    135|           68|           42|    250|42.3|                   0.365| 24|      1|\n",
            "|          1|    139|           62|           41|    480|40.7|                   0.536| 21|      0|\n",
            "|          0|    173|           78|           32|    265|46.5|                   1.159| 58|      0|\n",
            "|          4|     99|           72|           17|      0|25.6|                   0.294| 28|      0|\n",
            "|          8|    194|           80|            0|      0|26.1|                   0.551| 67|      0|\n",
            "|          2|     83|           65|           28|     66|36.8|                   0.629| 24|      0|\n",
            "|          2|     89|           90|           30|      0|33.5|                   0.292| 42|      0|\n",
            "|          4|     99|           68|           38|      0|32.8|                   0.145| 33|      0|\n",
            "|          4|    125|           70|           18|    122|28.9|                   1.144| 45|      1|\n",
            "|          3|     80|            0|            0|      0| 0.0|                   0.174| 22|      0|\n",
            "|          6|    166|           74|            0|      0|26.6|                   0.304| 66|      0|\n",
            "|          5|    110|           68|            0|      0|26.0|                   0.292| 30|      0|\n",
            "|          2|     81|           72|           15|     76|30.1|                   0.547| 25|      0|\n",
            "|          7|    195|           70|           33|    145|25.1|                   0.163| 55|      1|\n",
            "|          6|    154|           74|           32|    193|29.3|                   0.839| 39|      0|\n",
            "|          2|    117|           90|           19|     71|25.2|                   0.313| 21|      0|\n",
            "|          3|     84|           72|           32|      0|37.2|                   0.267| 28|      0|\n",
            "+-----------+-------+-------------+-------------+-------+----+------------------------+---+-------+\n",
            "only showing top 20 rows\n",
            "\n"
          ]
        }
      ]
    },
    {
      "cell_type": "code",
      "metadata": {
        "id": "Ulqkuz8aOvV6",
        "colab": {
          "base_uri": "https://localhost:8080/"
        },
        "outputId": "918b8e48-b331-4723-a593-9b75756e4f27"
      },
      "source": [
        "#print the schema\n",
        "df.printSchema()"
      ],
      "execution_count": null,
      "outputs": [
        {
          "output_type": "stream",
          "name": "stdout",
          "text": [
            "root\n",
            " |-- Pregnancies: integer (nullable = true)\n",
            " |-- Glucose: integer (nullable = true)\n",
            " |-- BloodPressure: integer (nullable = true)\n",
            " |-- SkinThickness: integer (nullable = true)\n",
            " |-- Insulin: integer (nullable = true)\n",
            " |-- BMI: double (nullable = true)\n",
            " |-- DiabetesPedigreeFunction: double (nullable = true)\n",
            " |-- Age: integer (nullable = true)\n",
            " |-- Outcome: integer (nullable = true)\n",
            "\n"
          ]
        }
      ]
    },
    {
      "cell_type": "code",
      "metadata": {
        "id": "kpZlF2S2Ovgw",
        "colab": {
          "base_uri": "https://localhost:8080/"
        },
        "outputId": "43154603-0eaf-4cb6-b873-3a43cc05dbcf"
      },
      "source": [
        "#count the total no. of diabetic and non-diabetic class\n",
        "print((df.count(), len(df.columns)))\n",
        "df.groupBy('Glucose').count().show()\n",
        "df.groupBy('BloodPressure').count().show()\n",
        "df.groupBy('SkinThickness').count().show()\n",
        "df.groupBy('Insulin').count().show()\n",
        "df.groupBy('BMI').count().show()\n",
        "df.groupBy('DiabetesPedigreeFunction').count().show()\n",
        "df.groupBy('Age').count().show()\n",
        "df.groupBy('Outcome').count().show()"
      ],
      "execution_count": null,
      "outputs": [
        {
          "output_type": "stream",
          "name": "stdout",
          "text": [
            "(2000, 9)\n",
            "+-------+-----+\n",
            "|Glucose|count|\n",
            "+-------+-----+\n",
            "|    148|    8|\n",
            "|    137|   21|\n",
            "|     85|   15|\n",
            "|     65|    3|\n",
            "|    133|   11|\n",
            "|     78|    7|\n",
            "|    155|   13|\n",
            "|    108|   33|\n",
            "|    193|    6|\n",
            "|    101|   24|\n",
            "|    126|   24|\n",
            "|    115|   25|\n",
            "|     81|   19|\n",
            "|    183|    8|\n",
            "|     76|    4|\n",
            "|    159|    4|\n",
            "|     44|    2|\n",
            "|    103|   18|\n",
            "|     91|   23|\n",
            "|    128|   28|\n",
            "+-------+-----+\n",
            "only showing top 20 rows\n",
            "\n",
            "+-------------+-----+\n",
            "|BloodPressure|count|\n",
            "+-------------+-----+\n",
            "|           85|   14|\n",
            "|           65|   19|\n",
            "|           78|  128|\n",
            "|          108|    5|\n",
            "|           76|   93|\n",
            "|           44|   11|\n",
            "|          122|    3|\n",
            "|           52|   29|\n",
            "|           86|   53|\n",
            "|           40|    2|\n",
            "|           94|   18|\n",
            "|           54|   31|\n",
            "|           96|    8|\n",
            "|           48|   13|\n",
            "|           92|   12|\n",
            "|           64|  120|\n",
            "|           61|    4|\n",
            "|           88|   67|\n",
            "|           72|  118|\n",
            "|          114|    3|\n",
            "+-------------+-----+\n",
            "only showing top 20 rows\n",
            "\n",
            "+-------------+-----+\n",
            "|SkinThickness|count|\n",
            "+-------------+-----+\n",
            "|           31|   50|\n",
            "|           34|   19|\n",
            "|           28|   54|\n",
            "|           26|   39|\n",
            "|           27|   58|\n",
            "|           44|   12|\n",
            "|           12|   21|\n",
            "|           22|   44|\n",
            "|           47|    7|\n",
            "|           52|    4|\n",
            "|           13|   30|\n",
            "|           16|   15|\n",
            "|           20|  605|\n",
            "|           40|   42|\n",
            "|           54|    4|\n",
            "|           48|   12|\n",
            "|           19|   41|\n",
            "|           41|   41|\n",
            "|           15|   33|\n",
            "|           43|   15|\n",
            "+-------------+-----+\n",
            "only showing top 20 rows\n",
            "\n",
            "+-------+-----+\n",
            "|Insulin|count|\n",
            "+-------+-----+\n",
            "|    148|    6|\n",
            "|    540|    3|\n",
            "|    392|    3|\n",
            "|     85|    7|\n",
            "|     65|    2|\n",
            "|     53|    5|\n",
            "|    255|    2|\n",
            "|     78|    7|\n",
            "|    321|    3|\n",
            "|    375|    2|\n",
            "|    155|   10|\n",
            "|    744|    2|\n",
            "|    108|    3|\n",
            "|    193|    5|\n",
            "|    115|   14|\n",
            "|    126|    7|\n",
            "|     81|    3|\n",
            "|    210|   14|\n",
            "|    183|    3|\n",
            "|    300|    2|\n",
            "+-------+-----+\n",
            "only showing top 20 rows\n",
            "\n",
            "+----+-----+\n",
            "| BMI|count|\n",
            "+----+-----+\n",
            "|26.7|    3|\n",
            "|37.1|    4|\n",
            "|25.1|   10|\n",
            "|45.3|    8|\n",
            "|24.7|   13|\n",
            "|32.3|    9|\n",
            "|43.3|   10|\n",
            "|26.4|   10|\n",
            "|23.8|    5|\n",
            "|24.9|    2|\n",
            "|37.4|    9|\n",
            "|36.2|    3|\n",
            "|35.6|    6|\n",
            "|47.9|    5|\n",
            "|49.7|    3|\n",
            "|38.5|   18|\n",
            "|26.6|   11|\n",
            "|23.9|    4|\n",
            "|43.6|    4|\n",
            "|25.2|   16|\n",
            "+----+-----+\n",
            "only showing top 20 rows\n",
            "\n",
            "+------------------------+-----+\n",
            "|DiabetesPedigreeFunction|count|\n",
            "+------------------------+-----+\n",
            "|                   0.526|    2|\n",
            "|                    0.66|    4|\n",
            "|                   0.204|    5|\n",
            "|                   0.194|    2|\n",
            "|                   0.134|    3|\n",
            "|                   0.262|    5|\n",
            "|                   0.319|    3|\n",
            "|                   0.744|    2|\n",
            "|                    0.84|    3|\n",
            "|                   0.645|    2|\n",
            "|                   0.773|    3|\n",
            "|                   0.693|    2|\n",
            "|                   0.886|    3|\n",
            "|                   0.396|    2|\n",
            "|                   0.394|    2|\n",
            "|                   0.343|    5|\n",
            "|                   0.572|    3|\n",
            "|                   0.302|    5|\n",
            "|                   0.875|    6|\n",
            "|                   0.234|    6|\n",
            "+------------------------+-----+\n",
            "only showing top 20 rows\n",
            "\n",
            "+---+-----+\n",
            "|Age|count|\n",
            "+---+-----+\n",
            "| 31|   58|\n",
            "| 65|    8|\n",
            "| 53|   10|\n",
            "| 34|   34|\n",
            "| 81|    3|\n",
            "| 28|   98|\n",
            "| 27|   81|\n",
            "| 26|   84|\n",
            "| 44|   20|\n",
            "| 22|  192|\n",
            "| 47|   17|\n",
            "| 52|   19|\n",
            "| 40|   35|\n",
            "| 57|    7|\n",
            "| 54|   12|\n",
            "| 48|   14|\n",
            "| 64|    3|\n",
            "| 41|   51|\n",
            "| 43|   34|\n",
            "| 37|   48|\n",
            "+---+-----+\n",
            "only showing top 20 rows\n",
            "\n",
            "+-------+-----+\n",
            "|Outcome|count|\n",
            "+-------+-----+\n",
            "|      1|  684|\n",
            "|      0| 1316|\n",
            "+-------+-----+\n",
            "\n"
          ]
        }
      ]
    },
    {
      "cell_type": "code",
      "metadata": {
        "id": "NewCNZEMOvtM",
        "colab": {
          "base_uri": "https://localhost:8080/"
        },
        "outputId": "f2fd9281-b6d0-434d-c97a-28f065f7f50b"
      },
      "source": [
        "#get the summary statistics\n",
        "df.describe().show()"
      ],
      "execution_count": null,
      "outputs": [
        {
          "output_type": "stream",
          "name": "stdout",
          "text": [
            "+-------+-----------------+------------------+------------------+-----------------+-----------------+------------------+------------------------+------------------+------------------+\n",
            "|summary|      Pregnancies|           Glucose|     BloodPressure|    SkinThickness|          Insulin|               BMI|DiabetesPedigreeFunction|               Age|           Outcome|\n",
            "+-------+-----------------+------------------+------------------+-----------------+-----------------+------------------+------------------------+------------------+------------------+\n",
            "|  count|             2000|              2000|              2000|             2000|             2000|              2000|                    2000|              2000|              2000|\n",
            "|   mean|           3.7035|          121.1825|           69.1455|           20.935|           80.254|32.192999999999984|     0.47092999999999974|           33.0905|             0.342|\n",
            "| stddev|3.306063032730656|32.068635649902916|19.188314815604098|16.10324290992682|111.1805335457595| 8.149900701279762|      0.3235525586811429|11.786423106049496|0.4744982342297426|\n",
            "|    min|                0|                 0|                 0|                0|                0|               0.0|                   0.078|                21|                 0|\n",
            "|    max|               17|               199|               122|              110|              744|              80.6|                    2.42|                81|                 1|\n",
            "+-------+-----------------+------------------+------------------+-----------------+-----------------+------------------+------------------------+------------------+------------------+\n",
            "\n"
          ]
        }
      ]
    },
    {
      "cell_type": "markdown",
      "metadata": {
        "id": "gZerPOR-OyjQ"
      },
      "source": [
        "# PART 3: Data Cleaning & Preparation"
      ]
    },
    {
      "cell_type": "code",
      "metadata": {
        "id": "Q-KkJvV_PFFU",
        "colab": {
          "base_uri": "https://localhost:8080/"
        },
        "outputId": "c47a42ac-b1e5-4975-c75f-49fb088b1bdd"
      },
      "source": [
        "#check for null values\n",
        "for col in df.columns:\n",
        "  print(col+\":\",df[df[col].isNull()].count())"
      ],
      "execution_count": null,
      "outputs": [
        {
          "output_type": "stream",
          "name": "stdout",
          "text": [
            "Pregnancies: 0\n",
            "Glucose: 0\n",
            "BloodPressure: 0\n",
            "SkinThickness: 0\n",
            "Insulin: 0\n",
            "BMI: 0\n",
            "DiabetesPedigreeFunction: 0\n",
            "Age: 0\n",
            "Outcome: 0\n"
          ]
        }
      ]
    },
    {
      "cell_type": "code",
      "metadata": {
        "id": "ZJsbgwZMPFQC"
      },
      "source": [
        "#look for the unnecessary values present\n",
        "def count_zeros():\n",
        "  columns_list = [\"Glucose\", \"BloodPressure\", \"SkinThickness\", \"Insulin\", \"BMI\"]\n",
        "  for i in columns_list:\n",
        "    print(i+\":\",df[df[i]==0].count())"
      ],
      "execution_count": null,
      "outputs": []
    },
    {
      "cell_type": "code",
      "metadata": {
        "id": "pcXTErb9PFbo",
        "colab": {
          "base_uri": "https://localhost:8080/"
        },
        "outputId": "6105cb03-5bce-450f-e65b-7e76cbaa1a94"
      },
      "source": [
        "count_zeros()"
      ],
      "execution_count": null,
      "outputs": [
        {
          "output_type": "stream",
          "name": "stdout",
          "text": [
            "Glucose: 13\n",
            "BloodPressure: 90\n",
            "SkinThickness: 573\n",
            "Insulin: 956\n",
            "BMI: 28\n"
          ]
        }
      ]
    },
    {
      "cell_type": "code",
      "metadata": {
        "id": "VXemdtaPPFmA",
        "colab": {
          "base_uri": "https://localhost:8080/"
        },
        "outputId": "bff1f4a7-cca8-4761-a50f-9e1e8a44d40e"
      },
      "source": [
        "#calculate and replace the unnecessary values by the mean value\n",
        "from pyspark.sql.functions import *\n",
        "\n",
        "for i in df.columns[1:6]:\n",
        "  data = df.agg({i:\"mean\"}).first()[0]\n",
        "  print(\"mean value for {} is {}\".format(i,int(data)))\n",
        "  df = df.withColumn(i, when(df[i]==0, int(data)).otherwise(df[i]))"
      ],
      "execution_count": null,
      "outputs": [
        {
          "output_type": "stream",
          "name": "stdout",
          "text": [
            "mean value for Glucose is 121\n",
            "mean value for BloodPressure is 69\n",
            "mean value for SkinThickness is 20\n",
            "mean value for Insulin is 80\n",
            "mean value for BMI is 32\n"
          ]
        }
      ]
    },
    {
      "cell_type": "code",
      "metadata": {
        "id": "C0bk0Ps_PFwk",
        "colab": {
          "base_uri": "https://localhost:8080/"
        },
        "outputId": "80e08eed-cd25-40a6-a616-b7fe6940c0cd"
      },
      "source": [
        "#display the dataframe\n",
        "df.show()"
      ],
      "execution_count": null,
      "outputs": [
        {
          "output_type": "stream",
          "name": "stdout",
          "text": [
            "+-----------+-------+-------------+-------------+-------+----+------------------------+---+-------+\n",
            "|Pregnancies|Glucose|BloodPressure|SkinThickness|Insulin| BMI|DiabetesPedigreeFunction|Age|Outcome|\n",
            "+-----------+-------+-------------+-------------+-------+----+------------------------+---+-------+\n",
            "|          2|    138|           62|           35|     80|33.6|                   0.127| 47|      1|\n",
            "|          0|     84|           82|           31|    125|38.2|                   0.233| 23|      0|\n",
            "|          0|    145|           69|           20|     80|44.2|                    0.63| 31|      1|\n",
            "|          0|    135|           68|           42|    250|42.3|                   0.365| 24|      1|\n",
            "|          1|    139|           62|           41|    480|40.7|                   0.536| 21|      0|\n",
            "|          0|    173|           78|           32|    265|46.5|                   1.159| 58|      0|\n",
            "|          4|     99|           72|           17|     80|25.6|                   0.294| 28|      0|\n",
            "|          8|    194|           80|           20|     80|26.1|                   0.551| 67|      0|\n",
            "|          2|     83|           65|           28|     66|36.8|                   0.629| 24|      0|\n",
            "|          2|     89|           90|           30|     80|33.5|                   0.292| 42|      0|\n",
            "|          4|     99|           68|           38|     80|32.8|                   0.145| 33|      0|\n",
            "|          4|    125|           70|           18|    122|28.9|                   1.144| 45|      1|\n",
            "|          3|     80|           69|           20|     80|32.0|                   0.174| 22|      0|\n",
            "|          6|    166|           74|           20|     80|26.6|                   0.304| 66|      0|\n",
            "|          5|    110|           68|           20|     80|26.0|                   0.292| 30|      0|\n",
            "|          2|     81|           72|           15|     76|30.1|                   0.547| 25|      0|\n",
            "|          7|    195|           70|           33|    145|25.1|                   0.163| 55|      1|\n",
            "|          6|    154|           74|           32|    193|29.3|                   0.839| 39|      0|\n",
            "|          2|    117|           90|           19|     71|25.2|                   0.313| 21|      0|\n",
            "|          3|     84|           72|           32|     80|37.2|                   0.267| 28|      0|\n",
            "+-----------+-------+-------------+-------------+-------+----+------------------------+---+-------+\n",
            "only showing top 20 rows\n",
            "\n"
          ]
        }
      ]
    },
    {
      "cell_type": "markdown",
      "metadata": {
        "id": "LOgSTdBpPs7G"
      },
      "source": [
        "# PART 4: Correlation Analysis & Feature Selection"
      ]
    },
    {
      "cell_type": "code",
      "metadata": {
        "id": "7Eq6jdcFP_3C",
        "colab": {
          "base_uri": "https://localhost:8080/"
        },
        "outputId": "92b1b36f-c8d3-4109-9c1f-0b85c53027e8"
      },
      "source": [
        "#find the correlation among the set of input & output variables\n",
        "for i in df.columns:\n",
        "  print(\"Correlation to outcome for {} is {}\".format(i, df.stat.corr(\"Outcome\",i)))"
      ],
      "execution_count": null,
      "outputs": [
        {
          "output_type": "stream",
          "name": "stdout",
          "text": [
            "Correlation to outcome for Pregnancies is 0.22443699263363961\n",
            "Correlation to outcome for Glucose is 0.48796646527321064\n",
            "Correlation to outcome for BloodPressure is 0.17171333286446713\n",
            "Correlation to outcome for SkinThickness is 0.1659010662889893\n",
            "Correlation to outcome for Insulin is 0.1711763270226193\n",
            "Correlation to outcome for BMI is 0.2827927569760082\n",
            "Correlation to outcome for DiabetesPedigreeFunction is 0.1554590791569403\n",
            "Correlation to outcome for Age is 0.23650924717620253\n",
            "Correlation to outcome for Outcome is 1.0\n"
          ]
        }
      ]
    },
    {
      "cell_type": "code",
      "metadata": {
        "id": "Fl7Edj-OQACn"
      },
      "source": [
        "#feature selection\n",
        "from pyspark.ml.feature import VectorAssembler\n",
        "\n",
        "assembler = VectorAssembler(inputCols = ['Pregnancies', 'Glucose', 'BloodPressure', 'SkinThickness',\n",
        "                                         'Insulin', 'BMI', 'DiabetesPedigreeFunction', 'Age'], outputCol='features')\n",
        "output_data = assembler.transform(df)"
      ],
      "execution_count": null,
      "outputs": []
    },
    {
      "cell_type": "code",
      "metadata": {
        "id": "mJKrfqdaQAOy",
        "colab": {
          "base_uri": "https://localhost:8080/"
        },
        "outputId": "98e73381-465c-4b22-dd83-e1cb2e760296"
      },
      "source": [
        "#print the schema\n",
        "output_data.printSchema()"
      ],
      "execution_count": null,
      "outputs": [
        {
          "output_type": "stream",
          "name": "stdout",
          "text": [
            "root\n",
            " |-- Pregnancies: integer (nullable = true)\n",
            " |-- Glucose: integer (nullable = true)\n",
            " |-- BloodPressure: integer (nullable = true)\n",
            " |-- SkinThickness: integer (nullable = true)\n",
            " |-- Insulin: integer (nullable = true)\n",
            " |-- BMI: double (nullable = true)\n",
            " |-- DiabetesPedigreeFunction: double (nullable = true)\n",
            " |-- Age: integer (nullable = true)\n",
            " |-- Outcome: integer (nullable = true)\n",
            " |-- features: vector (nullable = true)\n",
            "\n"
          ]
        }
      ]
    },
    {
      "cell_type": "code",
      "metadata": {
        "id": "FURl7qESQAaQ",
        "colab": {
          "base_uri": "https://localhost:8080/"
        },
        "outputId": "ad62f463-ee91-4ccd-da0a-6bdc782ccf6d"
      },
      "source": [
        "#display dataframe\n",
        "output_data.show()"
      ],
      "execution_count": null,
      "outputs": [
        {
          "output_type": "stream",
          "name": "stdout",
          "text": [
            "+-----------+-------+-------------+-------------+-------+----+------------------------+---+-------+--------------------+\n",
            "|Pregnancies|Glucose|BloodPressure|SkinThickness|Insulin| BMI|DiabetesPedigreeFunction|Age|Outcome|            features|\n",
            "+-----------+-------+-------------+-------------+-------+----+------------------------+---+-------+--------------------+\n",
            "|          2|    138|           62|           35|     80|33.6|                   0.127| 47|      1|[2.0,138.0,62.0,3...|\n",
            "|          0|     84|           82|           31|    125|38.2|                   0.233| 23|      0|[0.0,84.0,82.0,31...|\n",
            "|          0|    145|           69|           20|     80|44.2|                    0.63| 31|      1|[0.0,145.0,69.0,2...|\n",
            "|          0|    135|           68|           42|    250|42.3|                   0.365| 24|      1|[0.0,135.0,68.0,4...|\n",
            "|          1|    139|           62|           41|    480|40.7|                   0.536| 21|      0|[1.0,139.0,62.0,4...|\n",
            "|          0|    173|           78|           32|    265|46.5|                   1.159| 58|      0|[0.0,173.0,78.0,3...|\n",
            "|          4|     99|           72|           17|     80|25.6|                   0.294| 28|      0|[4.0,99.0,72.0,17...|\n",
            "|          8|    194|           80|           20|     80|26.1|                   0.551| 67|      0|[8.0,194.0,80.0,2...|\n",
            "|          2|     83|           65|           28|     66|36.8|                   0.629| 24|      0|[2.0,83.0,65.0,28...|\n",
            "|          2|     89|           90|           30|     80|33.5|                   0.292| 42|      0|[2.0,89.0,90.0,30...|\n",
            "|          4|     99|           68|           38|     80|32.8|                   0.145| 33|      0|[4.0,99.0,68.0,38...|\n",
            "|          4|    125|           70|           18|    122|28.9|                   1.144| 45|      1|[4.0,125.0,70.0,1...|\n",
            "|          3|     80|           69|           20|     80|32.0|                   0.174| 22|      0|[3.0,80.0,69.0,20...|\n",
            "|          6|    166|           74|           20|     80|26.6|                   0.304| 66|      0|[6.0,166.0,74.0,2...|\n",
            "|          5|    110|           68|           20|     80|26.0|                   0.292| 30|      0|[5.0,110.0,68.0,2...|\n",
            "|          2|     81|           72|           15|     76|30.1|                   0.547| 25|      0|[2.0,81.0,72.0,15...|\n",
            "|          7|    195|           70|           33|    145|25.1|                   0.163| 55|      1|[7.0,195.0,70.0,3...|\n",
            "|          6|    154|           74|           32|    193|29.3|                   0.839| 39|      0|[6.0,154.0,74.0,3...|\n",
            "|          2|    117|           90|           19|     71|25.2|                   0.313| 21|      0|[2.0,117.0,90.0,1...|\n",
            "|          3|     84|           72|           32|     80|37.2|                   0.267| 28|      0|[3.0,84.0,72.0,32...|\n",
            "+-----------+-------+-------------+-------------+-------+----+------------------------+---+-------+--------------------+\n",
            "only showing top 20 rows\n",
            "\n"
          ]
        }
      ]
    },
    {
      "cell_type": "markdown",
      "metadata": {
        "id": "8fSjOdfyQA99"
      },
      "source": [
        "# PART 5: Split Dataset & Build the Model"
      ]
    },
    {
      "cell_type": "code",
      "metadata": {
        "id": "F89--FiVQQJn"
      },
      "source": [
        "#create final data\n",
        "from pyspark.ml.classification import LogisticRegression\n",
        "\n",
        "final_data = output_data.select('features','Outcome')"
      ],
      "execution_count": null,
      "outputs": []
    },
    {
      "cell_type": "code",
      "metadata": {
        "id": "cKpm5912Qji_",
        "colab": {
          "base_uri": "https://localhost:8080/"
        },
        "outputId": "631b96bf-b1c6-478a-83ef-b546c2cbb036"
      },
      "source": [
        "#print schema of final data\n",
        "final_data.printSchema()"
      ],
      "execution_count": null,
      "outputs": [
        {
          "output_type": "stream",
          "name": "stdout",
          "text": [
            "root\n",
            " |-- features: vector (nullable = true)\n",
            " |-- Outcome: integer (nullable = true)\n",
            "\n"
          ]
        }
      ]
    },
    {
      "cell_type": "code",
      "metadata": {
        "id": "r_Nom7aZQjuN"
      },
      "source": [
        "#split the dataset ; build the model\n",
        "train, test = final_data.randomSplit([0.7, 0.3])\n",
        "models = LogisticRegression(labelCol= 'Outcome')\n",
        "model = models.fit(train)"
      ],
      "execution_count": null,
      "outputs": []
    },
    {
      "cell_type": "code",
      "metadata": {
        "id": "OljO2HcIQj7E",
        "colab": {
          "base_uri": "https://localhost:8080/"
        },
        "outputId": "3959fda9-a690-4807-daf7-bf408280efe5"
      },
      "source": [
        "#summary of the model\n",
        "summary = model.summary\n",
        "summary.predictions.describe().show()"
      ],
      "execution_count": null,
      "outputs": [
        {
          "output_type": "stream",
          "name": "stdout",
          "text": [
            "+-------+-------------------+-------------------+\n",
            "|summary|            Outcome|         prediction|\n",
            "+-------+-------------------+-------------------+\n",
            "|  count|               1447|               1447|\n",
            "|   mean|0.35176226675881134|0.27297857636489287|\n",
            "| stddev|0.47768532370002664| 0.4456439404622534|\n",
            "|    min|                0.0|                0.0|\n",
            "|    max|                1.0|                1.0|\n",
            "+-------+-------------------+-------------------+\n",
            "\n"
          ]
        }
      ]
    },
    {
      "cell_type": "markdown",
      "metadata": {
        "id": "DfaD_vzfQkah"
      },
      "source": [
        "# PART 6: Evaluate and Save the Model"
      ]
    },
    {
      "cell_type": "code",
      "metadata": {
        "id": "CHC5Erq7Q4QN"
      },
      "source": [
        "from pyspark.ml.evaluation import BinaryClassificationEvaluator\n",
        "\n",
        "predictions = model.evaluate(test)"
      ],
      "execution_count": null,
      "outputs": []
    },
    {
      "cell_type": "code",
      "metadata": {
        "id": "UBltVqoNQ4cM",
        "colab": {
          "base_uri": "https://localhost:8080/"
        },
        "outputId": "c3310980-4df7-4810-b3fb-7cefd949e52f"
      },
      "source": [
        "predictions.predictions.show(150)"
      ],
      "execution_count": null,
      "outputs": [
        {
          "output_type": "stream",
          "name": "stdout",
          "text": [
            "+--------------------+-------+--------------------+--------------------+----------+\n",
            "|            features|Outcome|       rawPrediction|         probability|prediction|\n",
            "+--------------------+-------+--------------------+--------------------+----------+\n",
            "|[0.0,57.0,60.0,20...|      0|[3.98697497843132...|[0.98178228272298...|       0.0|\n",
            "|[0.0,57.0,60.0,20...|      0|[3.98697497843132...|[0.98178228272298...|       0.0|\n",
            "|[0.0,67.0,76.0,20...|      0|[2.60715002796360...|[0.93132032808746...|       0.0|\n",
            "|[0.0,73.0,69.0,20...|      0|[4.22070751523771...|[0.98552437294187...|       0.0|\n",
            "|[0.0,84.0,64.0,22...|      0|[2.4907702613622,...|[0.92349224269688...|       0.0|\n",
            "|[0.0,84.0,82.0,31...|      0|[2.75302043553899...|[0.94008370619530...|       0.0|\n",
            "|[0.0,91.0,80.0,20...|      0|[2.40607044824972...|[0.91728903577932...|       0.0|\n",
            "|[0.0,93.0,60.0,25...|      0|[2.72647002426557...|[0.93857062839875...|       0.0|\n",
            "|[0.0,93.0,60.0,25...|      0|[2.72647002426557...|[0.93857062839875...|       0.0|\n",
            "|[0.0,93.0,100.0,3...|      0|[1.00437762722205...|[0.73191840130743...|       0.0|\n",
            "|[0.0,95.0,85.0,25...|      1|[2.18874889982673...|[0.89923459868828...|       0.0|\n",
            "|[0.0,97.0,64.0,36...|      0|[1.88906483767973...|[0.86864886717876...|       0.0|\n",
            "|[0.0,98.0,82.0,15...|      0|[3.04263452726476...|[0.95446347074582...|       0.0|\n",
            "|[0.0,98.0,82.0,15...|      0|[3.04263452726476...|[0.95446347074582...|       0.0|\n",
            "|[0.0,99.0,69.0,20...|      0|[3.04494991586887...|[0.95456399854740...|       0.0|\n",
            "|[0.0,100.0,70.0,2...|      0|[2.16784175995076...|[0.89732429099096...|       0.0|\n",
            "|[0.0,100.0,88.0,6...|      0|[0.64278377328359...|[0.65538246498053...|       0.0|\n",
            "|[0.0,101.0,62.0,2...|      0|[3.07844529863030...|[0.95599482665801...|       0.0|\n",
            "|[0.0,101.0,62.0,2...|      0|[3.07844529863030...|[0.95599482665801...|       0.0|\n",
            "|[0.0,101.0,64.0,1...|      0|[3.27170577561274...|[0.96344529402887...|       0.0|\n",
            "|[0.0,101.0,64.0,1...|      0|[3.27170577561274...|[0.96344529402887...|       0.0|\n",
            "|[0.0,102.0,52.0,2...|      0|[3.09357060328634...|[0.95662675831673...|       0.0|\n",
            "|[0.0,102.0,64.0,4...|      0|[1.51305297169907...|[0.81951321644289...|       0.0|\n",
            "|[0.0,102.0,64.0,4...|      0|[1.51305297169907...|[0.81951321644289...|       0.0|\n",
            "|[0.0,102.0,64.0,4...|      0|[1.51305297169907...|[0.81951321644289...|       0.0|\n",
            "|[0.0,102.0,75.0,2...|      0|[2.09194636330435...|[0.89011794012518...|       0.0|\n",
            "|[0.0,102.0,78.0,4...|      0|[2.24646095403092...|[0.90434482679159...|       0.0|\n",
            "|[0.0,102.0,86.0,1...|      0|[2.17240176085702...|[0.89774365887693...|       0.0|\n",
            "|[0.0,104.0,64.0,3...|      1|[1.90693882575396...|[0.87067485010126...|       0.0|\n",
            "|[0.0,104.0,64.0,3...|      1|[1.90693882575396...|[0.87067485010126...|       0.0|\n",
            "|[0.0,105.0,68.0,2...|      0|[3.20388203649071...|[0.96098010403975...|       0.0|\n",
            "|[0.0,105.0,68.0,2...|      0|[3.20388203649071...|[0.96098010403975...|       0.0|\n",
            "|[0.0,105.0,84.0,2...|      1|[1.73581961255512...|[0.85015529978499...|       0.0|\n",
            "|[0.0,105.0,90.0,2...|      0|[2.32600222571053...|[0.91100775880778...|       0.0|\n",
            "|[0.0,106.0,70.0,3...|      0|[1.47253464253229...|[0.81344233355126...|       0.0|\n",
            "|[0.0,106.0,70.0,3...|      0|[1.47253464253229...|[0.81344233355126...|       0.0|\n",
            "|[0.0,106.0,70.0,3...|      0|[1.47253464253229...|[0.81344233355126...|       0.0|\n",
            "|[0.0,111.0,65.0,2...|      0|[2.10301771862002...|[0.89119613926585...|       0.0|\n",
            "|[0.0,113.0,80.0,1...|      0|[1.43489492173778...|[0.80766285571839...|       0.0|\n",
            "|[0.0,114.0,80.0,3...|      0|[1.49556544661488...|[0.81691214661575...|       0.0|\n",
            "|[0.0,114.0,80.0,3...|      0|[1.49556544661488...|[0.81691214661575...|       0.0|\n",
            "|[0.0,117.0,69.0,2...|      0|[0.78547333131587...|[0.68685854158564...|       0.0|\n",
            "|[0.0,117.0,80.0,3...|      0|[0.94823228252018...|[0.72075953684140...|       0.0|\n",
            "|[0.0,118.0,64.0,2...|      0|[0.28321067871995...|[0.57033318820470...|       0.0|\n",
            "|[0.0,119.0,66.0,2...|      0|[1.23160797545059...|[0.77409988366193...|       0.0|\n",
            "|[0.0,120.0,74.0,1...|      0|[1.72353613557824...|[0.84858375244078...|       0.0|\n",
            "|[0.0,120.0,74.0,1...|      0|[1.72353613557824...|[0.84858375244078...|       0.0|\n",
            "|[0.0,121.0,66.0,3...|      1|[1.61695514608939...|[0.83437477906204...|       0.0|\n",
            "|[0.0,123.0,72.0,2...|      1|[0.99175271379553...|[0.72943397710302...|       0.0|\n",
            "|[0.0,124.0,56.0,1...|      0|[2.15847522894026...|[0.89645810334159...|       0.0|\n",
            "|[0.0,125.0,68.0,2...|      0|[2.12025618014530...|[0.89285643915088...|       0.0|\n",
            "|[0.0,125.0,96.0,2...|      0|[2.25684645640270...|[0.90523946247894...|       0.0|\n",
            "|[0.0,126.0,84.0,2...|      0|[1.56886270909438...|[0.82762141801126...|       0.0|\n",
            "|[0.0,126.0,86.0,2...|      0|[1.66037347821542...|[0.84028813169233...|       0.0|\n",
            "|[0.0,127.0,80.0,3...|      0|[0.81360163035742...|[0.69287645840885...|       0.0|\n",
            "|[0.0,128.0,68.0,1...|      1|[0.50963294435333...|[0.62472042411524...|       0.0|\n",
            "|[0.0,129.0,80.0,2...|      0|[0.90455926515011...|[0.71188553114461...|       0.0|\n",
            "|[0.0,131.0,66.0,4...|      1|[1.17081174527308...|[0.76329171115755...|       0.0|\n",
            "|[0.0,131.0,69.0,2...|      1|[0.39326785050112...|[0.59706911964028...|       0.0|\n",
            "|[0.0,132.0,78.0,2...|      0|[1.09155087983982...|[0.74867364988095...|       0.0|\n",
            "|[0.0,132.0,78.0,2...|      0|[1.09155087983982...|[0.74867364988095...|       0.0|\n",
            "|[0.0,134.0,58.0,2...|      0|[1.90701092647049...|[0.87068296843618...|       0.0|\n",
            "|[0.0,135.0,94.0,4...|      0|[0.57758545350848...|[0.64051163018380...|       0.0|\n",
            "|[0.0,135.0,94.0,4...|      0|[0.57758545350848...|[0.64051163018380...|       0.0|\n",
            "|[0.0,137.0,68.0,1...|      0|[1.85038282925230...|[0.86417204526418...|       0.0|\n",
            "|[0.0,137.0,68.0,1...|      0|[1.85038282925230...|[0.86417204526418...|       0.0|\n",
            "|[0.0,137.0,70.0,3...|      0|[1.05240028234169...|[0.74123555282884...|       0.0|\n",
            "|[0.0,137.0,70.0,3...|      0|[1.05240028234169...|[0.74123555282884...|       0.0|\n",
            "|[0.0,137.0,84.0,2...|      0|[1.10033599476358...|[0.75032305559968...|       0.0|\n",
            "|[0.0,138.0,69.0,2...|      1|[-0.0364918492608...|[0.49087804993657...|       1.0|\n",
            "|[0.0,140.0,65.0,2...|      1|[0.03930452016989...|[0.50982486525029...|       0.0|\n",
            "|[0.0,145.0,69.0,2...|      1|[-0.6405364034437...|[0.34512529472972...|       1.0|\n",
            "|[0.0,146.0,82.0,2...|      0|[-1.6985482296548...|[0.15465496976346...|       1.0|\n",
            "|[0.0,151.0,90.0,4...|      1|[-0.3302705713768...|[0.41817479043094...|       1.0|\n",
            "|[0.0,162.0,76.0,5...|      1|[-1.9974477797140...|[0.11947114931929...|       1.0|\n",
            "|[0.0,165.0,90.0,3...|      0|[-0.5085380887962...|[0.37553629412362...|       1.0|\n",
            "|[0.0,167.0,69.0,2...|      1|[-0.8065326226663...|[0.30862986455477...|       1.0|\n",
            "|[0.0,173.0,78.0,3...|      0|[-2.3103458897673...|[0.09026973582520...|       1.0|\n",
            "|[0.0,173.0,78.0,3...|      0|[-2.3103458897673...|[0.09026973582520...|       1.0|\n",
            "|[0.0,179.0,90.0,2...|      1|[-1.9063393691959...|[0.12939266380018...|       1.0|\n",
            "|[0.0,179.0,90.0,2...|      1|[-1.9063393691959...|[0.12939266380018...|       1.0|\n",
            "|[0.0,180.0,66.0,3...|      1|[-3.0781095708014...|[0.04401929914374...|       1.0|\n",
            "|[0.0,180.0,78.0,6...|      1|[-5.0417478594454...|[0.00642094798869...|       1.0|\n",
            "|[0.0,180.0,90.0,2...|      1|[-1.0840020443998...|[0.25274941429676...|       1.0|\n",
            "|[0.0,188.0,82.0,1...|      1|[-1.1343715207175...|[0.24335525478765...|       1.0|\n",
            "|[0.0,189.0,104.0,...|      1|[-1.4529946900944...|[0.18954110811201...|       1.0|\n",
            "|[1.0,71.0,62.0,20...|      0|[4.01778394737181...|[0.98232522481509...|       0.0|\n",
            "|[1.0,77.0,56.0,30...|      0|[2.02822549903042...|[0.88372886825048...|       0.0|\n",
            "|[1.0,80.0,74.0,11...|      0|[2.95163606980203...|[0.95034075672863...|       0.0|\n",
            "|[1.0,80.0,74.0,11...|      0|[2.95163606980203...|[0.95034075672863...|       0.0|\n",
            "|[1.0,81.0,72.0,18...|      0|[3.35901525148006...|[0.96639881450333...|       0.0|\n",
            "|[1.0,81.0,74.0,41...|      0|[1.00903584352435...|[0.73283141987742...|       0.0|\n",
            "|[1.0,83.0,68.0,20...|      0|[3.60592763602855...|[0.97355604062372...|       0.0|\n",
            "|[1.0,87.0,60.0,37...|      0|[2.17833301408459...|[0.89828686473600...|       0.0|\n",
            "|[1.0,87.0,78.0,27...|      0|[2.72659666903125...|[0.93857792979898...|       0.0|\n",
            "|[1.0,88.0,30.0,42...|      1|[0.80097426151260...|[0.69018284653034...|       0.0|\n",
            "|[1.0,88.0,30.0,42...|      1|[0.80097426151260...|[0.69018284653034...|       0.0|\n",
            "|[1.0,89.0,24.0,19...|      0|[2.62195847985615...|[0.93226148918752...|       0.0|\n",
            "|[1.0,89.0,76.0,34...|      0|[2.80873211968909...|[0.94314587143305...|       0.0|\n",
            "|[1.0,90.0,62.0,12...|      0|[2.65475209764579...|[0.93430328009521...|       0.0|\n",
            "|[1.0,90.0,62.0,18...|      0|[2.12429905815063...|[0.89324258247140...|       0.0|\n",
            "|[1.0,90.0,68.0,8....|      0|[2.24884160848033...|[0.90455056778166...|       0.0|\n",
            "|[1.0,91.0,54.0,25...|      0|[3.23905933992356...|[0.96227797924945...|       0.0|\n",
            "|[1.0,93.0,70.0,31...|      0|[2.66663428939276...|[0.93502886398329...|       0.0|\n",
            "|[1.0,95.0,60.0,18...|      0|[3.08603663269431...|[0.95631308114946...|       0.0|\n",
            "|[1.0,95.0,60.0,18...|      0|[3.08603663269431...|[0.95631308114946...|       0.0|\n",
            "|[1.0,95.0,74.0,21...|      0|[2.42467670672508...|[0.91868977401175...|       0.0|\n",
            "|[1.0,95.0,74.0,21...|      0|[2.42467670672508...|[0.91868977401175...|       0.0|\n",
            "|[1.0,95.0,82.0,25...|      1|[2.35665079001105...|[0.91346141796991...|       0.0|\n",
            "|[1.0,97.0,64.0,19...|      0|[3.45661158608951...|[0.96942770174695...|       0.0|\n",
            "|[1.0,97.0,70.0,15...|      0|[3.61574522454785...|[0.97380761960681...|       0.0|\n",
            "|[1.0,100.0,66.0,1...|      0|[2.46096218346128...|[0.92135940730553...|       0.0|\n",
            "|[1.0,100.0,72.0,1...|      0|[2.35770883004469...|[0.91354501909061...|       0.0|\n",
            "|[1.0,100.0,72.0,1...|      0|[2.35770883004469...|[0.91354501909061...|       0.0|\n",
            "|[1.0,105.0,58.0,2...|      0|[2.79681063768477...|[0.94250323344790...|       0.0|\n",
            "|[1.0,106.0,70.0,2...|      0|[2.17849736795019...|[0.89830188036692...|       0.0|\n",
            "|[1.0,106.0,76.0,2...|      0|[1.73322737647350...|[0.84982477171835...|       0.0|\n",
            "|[1.0,107.0,72.0,3...|      0|[1.57021177823173...|[0.82781379683168...|       0.0|\n",
            "|[1.0,109.0,56.0,2...|      0|[1.99728354044381...|[0.88051157199197...|       0.0|\n",
            "|[1.0,111.0,86.0,1...|      0|[2.18797029249506...|[0.89916402579310...|       0.0|\n",
            "|[1.0,111.0,94.0,2...|      0|[1.66375288045621...|[0.84074113957136...|       0.0|\n",
            "|[1.0,112.0,72.0,3...|      0|[1.58964518073016...|[0.83056617662485...|       0.0|\n",
            "|[1.0,112.0,72.0,3...|      0|[1.58964518073016...|[0.83056617662485...|       0.0|\n",
            "|[1.0,113.0,64.0,3...|      1|[1.43201210697723...|[0.80721463175476...|       0.0|\n",
            "|[1.0,113.0,64.0,3...|      1|[1.43201210697723...|[0.80721463175476...|       0.0|\n",
            "|[1.0,116.0,78.0,2...|      0|[1.35545138785391...|[0.79501943446606...|       0.0|\n",
            "|[1.0,116.0,78.0,2...|      0|[1.35545138785391...|[0.79501943446606...|       0.0|\n",
            "|[1.0,117.0,60.0,2...|      0|[1.33328685273212...|[0.79138379904064...|       0.0|\n",
            "|[1.0,117.0,60.0,2...|      0|[1.33328685273212...|[0.79138379904064...|       0.0|\n",
            "|[1.0,117.0,88.0,2...|      1|[1.33308336184298...|[0.79135020162227...|       0.0|\n",
            "|[1.0,118.0,58.0,3...|      0|[1.55579182466268...|[0.82574867767975...|       0.0|\n",
            "|[1.0,119.0,54.0,1...|      0|[2.29441394820697...|[0.90841334672322...|       0.0|\n",
            "|[1.0,119.0,86.0,3...|      1|[0.25892381781940...|[0.56437172400792...|       0.0|\n",
            "|[1.0,119.0,88.0,4...|      0|[0.52228344825764...|[0.62768155767651...|       0.0|\n",
            "|[1.0,121.0,68.0,3...|      0|[1.39682199948280...|[0.80167910353158...|       0.0|\n",
            "|[1.0,121.0,78.0,3...|      0|[0.94853318116772...|[0.72082009325298...|       0.0|\n",
            "|[1.0,122.0,64.0,3...|      1|[0.88670760938876...|[0.70821027173438...|       0.0|\n",
            "|[1.0,122.0,64.0,3...|      1|[0.88670760938876...|[0.70821027173438...|       0.0|\n",
            "|[1.0,124.0,74.0,3...|      0|[1.82563845763852...|[0.86124132274434...|       0.0|\n",
            "|[1.0,124.0,74.0,3...|      0|[1.82563845763852...|[0.86124132274434...|       0.0|\n",
            "|[1.0,125.0,70.0,2...|      0|[2.02540630610161...|[0.88343887657722...|       0.0|\n",
            "|[1.0,126.0,56.0,2...|      0|[1.16539128285221...|[0.76231095840235...|       0.0|\n",
            "|[1.0,126.0,60.0,2...|      1|[1.14482470999346...|[0.75856435993834...|       0.0|\n",
            "|[1.0,128.0,82.0,1...|      0|[1.96629573601761...|[0.87721268188995...|       0.0|\n",
            "|[1.0,128.0,82.0,1...|      0|[1.96629573601761...|[0.87721268188995...|       0.0|\n",
            "|[1.0,128.0,88.0,3...|      1|[0.04200124022466...|[0.51049876669169...|       0.0|\n",
            "|[1.0,128.0,88.0,3...|      1|[0.04200124022466...|[0.51049876669169...|       0.0|\n",
            "|[1.0,130.0,60.0,2...|      0|[1.17094898195129...|[0.76331650583807...|       0.0|\n",
            "|[1.0,133.0,102.0,...|      1|[0.97564980267778...|[0.72624418983964...|       0.0|\n",
            "|[1.0,136.0,74.0,5...|      0|[0.64076192205584...|[0.65492567381415...|       0.0|\n",
            "+--------------------+-------+--------------------+--------------------+----------+\n",
            "only showing top 150 rows\n",
            "\n"
          ]
        }
      ]
    },
    {
      "cell_type": "code",
      "metadata": {
        "id": "A4BHCxCiQ4l-",
        "colab": {
          "base_uri": "https://localhost:8080/"
        },
        "outputId": "561a3dc5-3e98-4ed9-eac2-8ea7ad27a077"
      },
      "source": [
        "evaluator = BinaryClassificationEvaluator(rawPredictionCol= 'rawPrediction', labelCol='Outcome')\n",
        "evaluator.evaluate(model.transform(test))"
      ],
      "execution_count": null,
      "outputs": [
        {
          "output_type": "execute_result",
          "data": {
            "text/plain": [
              "0.8256689342403624"
            ]
          },
          "metadata": {},
          "execution_count": 26
        }
      ]
    },
    {
      "cell_type": "code",
      "metadata": {
        "id": "ERpRUFOHQ4x5"
      },
      "source": [
        "# save model\n",
        "model.save(\"'model\")"
      ],
      "execution_count": null,
      "outputs": []
    },
    {
      "cell_type": "code",
      "metadata": {
        "id": "4zSA9_KCQ47W"
      },
      "source": [
        "# load saved model back to the environment\n",
        "from pyspark.ml.classification import LogisticRegressionModel\n",
        "\n",
        "model = LogisticRegressionModel.load(\"'model\")"
      ],
      "execution_count": null,
      "outputs": []
    },
    {
      "cell_type": "markdown",
      "metadata": {
        "id": "Iznukr-xRANo"
      },
      "source": [
        "# PART 7: Prediction on New Data with the saved model"
      ]
    },
    {
      "cell_type": "code",
      "metadata": {
        "id": "MBq2hq27RdHB"
      },
      "source": [
        "#create a new spark dataframe\n",
        "test_df = spark.read.csv('/content/diabetes_dataset/new_test.csv', header=True, inferSchema=True)"
      ],
      "execution_count": null,
      "outputs": []
    },
    {
      "cell_type": "code",
      "source": [
        "test_df.show()"
      ],
      "metadata": {
        "colab": {
          "base_uri": "https://localhost:8080/"
        },
        "id": "LKH5QiUnsoxg",
        "outputId": "f4e1dd1f-d07b-4983-f340-2fca9ab68f78"
      },
      "execution_count": null,
      "outputs": [
        {
          "output_type": "stream",
          "name": "stdout",
          "text": [
            "+-----------+-------+-------------+-------------+-------+----+------------------------+---+\n",
            "|Pregnancies|Glucose|BloodPressure|SkinThickness|Insulin| BMI|DiabetesPedigreeFunction|Age|\n",
            "+-----------+-------+-------------+-------------+-------+----+------------------------+---+\n",
            "|          1|    190|           78|           38|    150|45.1|                   0.153| 48|\n",
            "|          0|     80|           84|           36|    120|50.2|                   0.211| 26|\n",
            "|          2|    138|           82|           46|    255|52.3|                   0.315| 30|\n",
            "|          1|    110|           63|           44|    480|62.7|                   0.616| 32|\n",
            "+-----------+-------+-------------+-------------+-------+----+------------------------+---+\n",
            "\n"
          ]
        }
      ]
    },
    {
      "cell_type": "code",
      "metadata": {
        "id": "co8K0NZsRdQB",
        "colab": {
          "base_uri": "https://localhost:8080/"
        },
        "outputId": "030edf93-2a48-47ae-c703-c3f3f7c5ff92"
      },
      "source": [
        "#print the schema\n",
        "test_df.printSchema()"
      ],
      "execution_count": null,
      "outputs": [
        {
          "output_type": "stream",
          "name": "stdout",
          "text": [
            "root\n",
            " |-- Pregnancies: integer (nullable = true)\n",
            " |-- Glucose: integer (nullable = true)\n",
            " |-- BloodPressure: integer (nullable = true)\n",
            " |-- SkinThickness: integer (nullable = true)\n",
            " |-- Insulin: integer (nullable = true)\n",
            " |-- BMI: double (nullable = true)\n",
            " |-- DiabetesPedigreeFunction: double (nullable = true)\n",
            " |-- Age: integer (nullable = true)\n",
            "\n"
          ]
        }
      ]
    },
    {
      "cell_type": "code",
      "metadata": {
        "id": "J7jtGf4lRdaz"
      },
      "source": [
        "#create an additional feature merged column\n",
        "test_data = assembler.transform(test_df)"
      ],
      "execution_count": null,
      "outputs": []
    },
    {
      "cell_type": "code",
      "metadata": {
        "id": "kd1glzOnRdkq",
        "colab": {
          "base_uri": "https://localhost:8080/"
        },
        "outputId": "9b4528f9-9222-4f25-f779-c4b0ce27d0da"
      },
      "source": [
        "#print the schema\n",
        "test_data.printSchema()"
      ],
      "execution_count": null,
      "outputs": [
        {
          "output_type": "stream",
          "name": "stdout",
          "text": [
            "root\n",
            " |-- Pregnancies: integer (nullable = true)\n",
            " |-- Glucose: integer (nullable = true)\n",
            " |-- BloodPressure: integer (nullable = true)\n",
            " |-- SkinThickness: integer (nullable = true)\n",
            " |-- Insulin: integer (nullable = true)\n",
            " |-- BMI: double (nullable = true)\n",
            " |-- DiabetesPedigreeFunction: double (nullable = true)\n",
            " |-- Age: integer (nullable = true)\n",
            " |-- features: vector (nullable = true)\n",
            "\n"
          ]
        }
      ]
    },
    {
      "cell_type": "code",
      "metadata": {
        "id": "40Dck7K_Rdxh",
        "colab": {
          "base_uri": "https://localhost:8080/"
        },
        "outputId": "b79339fb-f47a-49f6-ad98-c7642eb3066c"
      },
      "source": [
        "#use model to make predictions\n",
        "results = model.transform(test_data)\n",
        "results.printSchema()"
      ],
      "execution_count": null,
      "outputs": [
        {
          "output_type": "stream",
          "name": "stdout",
          "text": [
            "root\n",
            " |-- Pregnancies: integer (nullable = true)\n",
            " |-- Glucose: integer (nullable = true)\n",
            " |-- BloodPressure: integer (nullable = true)\n",
            " |-- SkinThickness: integer (nullable = true)\n",
            " |-- Insulin: integer (nullable = true)\n",
            " |-- BMI: double (nullable = true)\n",
            " |-- DiabetesPedigreeFunction: double (nullable = true)\n",
            " |-- Age: integer (nullable = true)\n",
            " |-- features: vector (nullable = true)\n",
            " |-- rawPrediction: vector (nullable = true)\n",
            " |-- probability: vector (nullable = true)\n",
            " |-- prediction: double (nullable = false)\n",
            "\n"
          ]
        }
      ]
    },
    {
      "cell_type": "code",
      "metadata": {
        "id": "AHpfS2SjRd7s",
        "colab": {
          "base_uri": "https://localhost:8080/"
        },
        "outputId": "d1499a57-fc03-44fd-ea0c-991d7919e75d"
      },
      "source": [
        "#display the predictions\n",
        "results.select('features','prediction').show()"
      ],
      "execution_count": null,
      "outputs": [
        {
          "output_type": "stream",
          "name": "stdout",
          "text": [
            "+--------------------+----------+\n",
            "|            features|prediction|\n",
            "+--------------------+----------+\n",
            "|[1.0,190.0,78.0,3...|       1.0|\n",
            "|[0.0,80.0,84.0,36...|       0.0|\n",
            "|[2.0,138.0,82.0,4...|       1.0|\n",
            "|[1.0,110.0,63.0,4...|       1.0|\n",
            "+--------------------+----------+\n",
            "\n"
          ]
        }
      ]
    },
    {
      "cell_type": "code",
      "source": [],
      "metadata": {
        "id": "-oK-dZOVre1t"
      },
      "execution_count": null,
      "outputs": []
    }
  ]
}